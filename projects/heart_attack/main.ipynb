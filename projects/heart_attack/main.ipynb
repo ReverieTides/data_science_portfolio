{
 "cells": [
  {
   "cell_type": "code",
   "execution_count": 1,
   "metadata": {},
   "outputs": [
    {
     "name": "stdout",
     "output_type": "stream",
     "text": [
      "Fetching rashikrahmanpritom/heart-attack-analysis-prediction-dataset\n",
      "Downloading from https://www.kaggle.com/api/v1/datasets/download/rashikrahmanpritom/heart-attack-analysis-prediction-dataset?dataset_version_number=2...\n"
     ]
    },
    {
     "name": "stderr",
     "output_type": "stream",
     "text": [
      "100%|██████████| 4.11k/4.11k [00:00<00:00, 4.97MB/s]"
     ]
    },
    {
     "name": "stdout",
     "output_type": "stream",
     "text": [
      "Extracting files...\n",
      "Moving heart.csv to data\n",
      "Moving o2Saturation.csv to data\n"
     ]
    },
    {
     "name": "stderr",
     "output_type": "stream",
     "text": [
      "\n"
     ]
    }
   ],
   "source": [
    "import sys\n",
    "from pathlib import Path\n",
    "import polars as pl\n",
    "\n",
    "sys.path.append(str(Path().resolve().parent.parent))\n",
    "\n",
    "from utils.plotting import download_data_from_kaggle\n",
    "\n",
    "download_data_from_kaggle(\n",
    "    \"rashikrahmanpritom/heart-attack-analysis-prediction-dataset\", \"data\"\n",
    ")"
   ]
  },
  {
   "cell_type": "markdown",
   "metadata": {},
   "source": [
    "### Data Understanding"
   ]
  },
  {
   "cell_type": "markdown",
   "metadata": {},
   "source": [
    "* CP: Chest Pain\n",
    "    * 0: typical angina\n",
    "    * 1: atypical angina\n",
    "    * 2: non-anginal pain\n",
    "    * 3: asymptomatic\n",
    "\n",
    "* TRTBPS: Resting Blood Pressure\n",
    "* CHOL: Cholesterol in mg/dl\n",
    "* FBS: Fasting blood sugar > 120 mg/dl\n",
    "* REST_ECG: Resting ElectroCardioGrapic results\n",
    "    * 0: Normal\n",
    "    * 1: ST-T Wave abnormality\n",
    "    * 2: Probable left ventricular hypertrophy under Estes' criteria\n",
    "* THALACH: Maximuim heart rate achieved\n",
    "* EXANG: Excercise induded angina\n",
    "* OLDPEAK: ST Depression induced by exercise relative to rest\n",
    "* SLP: The slope of the peak exercise ST segment\n",
    "    * 0: unsloping\n",
    "    * 1: flat\n",
    "    * 2: downward sloping\n",
    "* CAA: The number of major vessels\n",
    "* THALL: thalassemia\n",
    "    * 0: NA\n",
    "    * 1: Fixed defect\n",
    "    * 2: Normal\n",
    "    * 3: Reversable defect\n",
    "* OUTPUT the diognosis of heart disease:\n",
    "    * 0: Negative diagnosis\n",
    "    * 1: Positive diagnosis\n",
    "    \n",
    "\n",
    "\n"
   ]
  },
  {
   "cell_type": "code",
   "execution_count": 2,
   "metadata": {},
   "outputs": [
    {
     "data": {
      "text/html": [
       "<div><style>\n",
       ".dataframe > thead > tr,\n",
       ".dataframe > tbody > tr {\n",
       "  text-align: right;\n",
       "  white-space: pre-wrap;\n",
       "}\n",
       "</style>\n",
       "<small>shape: (5, 14)</small><table border=\"1\" class=\"dataframe\"><thead><tr><th>age</th><th>sex</th><th>chest_pain</th><th>resting_blood_pressure</th><th>cholesterol</th><th>fasting_blood_sugar</th><th>restecg</th><th>max_heart_rate</th><th>excercise_ind_angina</th><th>oldpeak</th><th>peak_slope</th><th>num_major_vessles</th><th>thalassemia</th><th>positive_diagnosis</th></tr><tr><td>i64</td><td>i64</td><td>i64</td><td>i64</td><td>i64</td><td>i64</td><td>i64</td><td>i64</td><td>i64</td><td>f64</td><td>i64</td><td>i64</td><td>i64</td><td>i64</td></tr></thead><tbody><tr><td>63</td><td>1</td><td>3</td><td>145</td><td>233</td><td>1</td><td>0</td><td>150</td><td>0</td><td>2.3</td><td>0</td><td>0</td><td>1</td><td>1</td></tr><tr><td>37</td><td>1</td><td>2</td><td>130</td><td>250</td><td>0</td><td>1</td><td>187</td><td>0</td><td>3.5</td><td>0</td><td>0</td><td>2</td><td>1</td></tr><tr><td>41</td><td>0</td><td>1</td><td>130</td><td>204</td><td>0</td><td>0</td><td>172</td><td>0</td><td>1.4</td><td>2</td><td>0</td><td>2</td><td>1</td></tr><tr><td>56</td><td>1</td><td>1</td><td>120</td><td>236</td><td>0</td><td>1</td><td>178</td><td>0</td><td>0.8</td><td>2</td><td>0</td><td>2</td><td>1</td></tr><tr><td>57</td><td>0</td><td>0</td><td>120</td><td>354</td><td>0</td><td>1</td><td>163</td><td>1</td><td>0.6</td><td>2</td><td>0</td><td>2</td><td>1</td></tr></tbody></table></div>"
      ],
      "text/plain": [
       "shape: (5, 14)\n",
       "┌─────┬─────┬────────────┬──────────────┬───┬────────────┬─────────────┬─────────────┬─────────────┐\n",
       "│ age ┆ sex ┆ chest_pain ┆ resting_bloo ┆ … ┆ peak_slope ┆ num_major_v ┆ thalassemia ┆ positive_di │\n",
       "│ --- ┆ --- ┆ ---        ┆ d_pressure   ┆   ┆ ---        ┆ essles      ┆ ---         ┆ agnosis     │\n",
       "│ i64 ┆ i64 ┆ i64        ┆ ---          ┆   ┆ i64        ┆ ---         ┆ i64         ┆ ---         │\n",
       "│     ┆     ┆            ┆ i64          ┆   ┆            ┆ i64         ┆             ┆ i64         │\n",
       "╞═════╪═════╪════════════╪══════════════╪═══╪════════════╪═════════════╪═════════════╪═════════════╡\n",
       "│ 63  ┆ 1   ┆ 3          ┆ 145          ┆ … ┆ 0          ┆ 0           ┆ 1           ┆ 1           │\n",
       "│ 37  ┆ 1   ┆ 2          ┆ 130          ┆ … ┆ 0          ┆ 0           ┆ 2           ┆ 1           │\n",
       "│ 41  ┆ 0   ┆ 1          ┆ 130          ┆ … ┆ 2          ┆ 0           ┆ 2           ┆ 1           │\n",
       "│ 56  ┆ 1   ┆ 1          ┆ 120          ┆ … ┆ 2          ┆ 0           ┆ 2           ┆ 1           │\n",
       "│ 57  ┆ 0   ┆ 0          ┆ 120          ┆ … ┆ 2          ┆ 0           ┆ 2           ┆ 1           │\n",
       "└─────┴─────┴────────────┴──────────────┴───┴────────────┴─────────────┴─────────────┴─────────────┘"
      ]
     },
     "execution_count": 2,
     "metadata": {},
     "output_type": "execute_result"
    }
   ],
   "source": [
    "data = pl.read_csv(\"data/heart.csv\").rename(\n",
    "    {\n",
    "        \"cp\": \"chest_pain\",\n",
    "        \"trtbps\": \"resting_blood_pressure\",\n",
    "        \"chol\": \"cholesterol\",\n",
    "        \"fbs\": \"fasting_blood_sugar\",\n",
    "        \"thalachh\": \"max_heart_rate\",\n",
    "        \"exng\": \"excercise_ind_angina\",\n",
    "        \"slp\": \"peak_slope\",\n",
    "        \"caa\": \"num_major_vessles\",\n",
    "        \"thall\": \"thalassemia\",\n",
    "        \"output\": \"positive_diagnosis\",\n",
    "    }\n",
    ")\n",
    "data.head()"
   ]
  },
  {
   "cell_type": "code",
   "execution_count": 3,
   "metadata": {},
   "outputs": [
    {
     "data": {
      "text/html": [
       "<div><style>\n",
       ".dataframe > thead > tr,\n",
       ".dataframe > tbody > tr {\n",
       "  text-align: right;\n",
       "  white-space: pre-wrap;\n",
       "}\n",
       "</style>\n",
       "<small>shape: (1, 14)</small><table border=\"1\" class=\"dataframe\"><thead><tr><th>age</th><th>sex</th><th>chest_pain</th><th>resting_blood_pressure</th><th>cholesterol</th><th>fasting_blood_sugar</th><th>restecg</th><th>max_heart_rate</th><th>excercise_ind_angina</th><th>oldpeak</th><th>peak_slope</th><th>num_major_vessles</th><th>thalassemia</th><th>positive_diagnosis</th></tr><tr><td>u32</td><td>u32</td><td>u32</td><td>u32</td><td>u32</td><td>u32</td><td>u32</td><td>u32</td><td>u32</td><td>u32</td><td>u32</td><td>u32</td><td>u32</td><td>u32</td></tr></thead><tbody><tr><td>0</td><td>0</td><td>0</td><td>0</td><td>0</td><td>0</td><td>0</td><td>0</td><td>0</td><td>0</td><td>0</td><td>0</td><td>0</td><td>0</td></tr></tbody></table></div>"
      ],
      "text/plain": [
       "shape: (1, 14)\n",
       "┌─────┬─────┬────────────┬──────────────┬───┬────────────┬─────────────┬─────────────┬─────────────┐\n",
       "│ age ┆ sex ┆ chest_pain ┆ resting_bloo ┆ … ┆ peak_slope ┆ num_major_v ┆ thalassemia ┆ positive_di │\n",
       "│ --- ┆ --- ┆ ---        ┆ d_pressure   ┆   ┆ ---        ┆ essles      ┆ ---         ┆ agnosis     │\n",
       "│ u32 ┆ u32 ┆ u32        ┆ ---          ┆   ┆ u32        ┆ ---         ┆ u32         ┆ ---         │\n",
       "│     ┆     ┆            ┆ u32          ┆   ┆            ┆ u32         ┆             ┆ u32         │\n",
       "╞═════╪═════╪════════════╪══════════════╪═══╪════════════╪═════════════╪═════════════╪═════════════╡\n",
       "│ 0   ┆ 0   ┆ 0          ┆ 0            ┆ … ┆ 0          ┆ 0           ┆ 0           ┆ 0           │\n",
       "└─────┴─────┴────────────┴──────────────┴───┴────────────┴─────────────┴─────────────┴─────────────┘"
      ]
     },
     "execution_count": 3,
     "metadata": {},
     "output_type": "execute_result"
    }
   ],
   "source": [
    "data.select(pl.all().is_null().sum())"
   ]
  },
  {
   "cell_type": "code",
   "execution_count": 4,
   "metadata": {},
   "outputs": [
    {
     "data": {
      "text/html": [
       "<div><style>\n",
       ".dataframe > thead > tr,\n",
       ".dataframe > tbody > tr {\n",
       "  text-align: right;\n",
       "  white-space: pre-wrap;\n",
       "}\n",
       "</style>\n",
       "<small>shape: (2, 2)</small><table border=\"1\" class=\"dataframe\"><thead><tr><th>positive_diagnosis</th><th>count</th></tr><tr><td>i64</td><td>u32</td></tr></thead><tbody><tr><td>0</td><td>138</td></tr><tr><td>1</td><td>165</td></tr></tbody></table></div>"
      ],
      "text/plain": [
       "shape: (2, 2)\n",
       "┌────────────────────┬───────┐\n",
       "│ positive_diagnosis ┆ count │\n",
       "│ ---                ┆ ---   │\n",
       "│ i64                ┆ u32   │\n",
       "╞════════════════════╪═══════╡\n",
       "│ 0                  ┆ 138   │\n",
       "│ 1                  ┆ 165   │\n",
       "└────────────────────┴───────┘"
      ]
     },
     "execution_count": 4,
     "metadata": {},
     "output_type": "execute_result"
    }
   ],
   "source": [
    "data[\"positive_diagnosis\"].value_counts()"
   ]
  },
  {
   "cell_type": "code",
   "execution_count": null,
   "metadata": {},
   "outputs": [],
   "source": [
    "data = data.with_columns(\n",
    "    [\n",
    "        (pl.col(col) / pl.col(\"age\")).alias(col + \"_div_age\")\n",
    "        for col in data.columns\n",
    "        if col not in [\"age\", \"positive_diagnosis\"]\n",
    "    ]\n",
    ")"
   ]
  },
  {
   "cell_type": "code",
   "execution_count": 6,
   "metadata": {},
   "outputs": [
    {
     "data": {
      "application/vnd.plotly.v1+json": {
       "config": {
        "plotlyServerURL": "https://plot.ly"
       },
       "data": [
        {
         "coloraxis": "coloraxis",
         "hovertemplate": "x: %{x}<br>y: %{y}<br>color: %{z}<extra></extra>",
         "name": "0",
         "type": "heatmap",
         "x": [
          "age",
          "sex",
          "chest_pain",
          "resting_blood_pressure",
          "cholesterol",
          "fasting_blood_sugar",
          "restecg",
          "max_heart_rate",
          "excercise_ind_angina",
          "oldpeak",
          "peak_slope",
          "num_major_vessles",
          "thalassemia",
          "positive_diagnosis"
         ],
         "xaxis": "x",
         "yaxis": "y",
         "z": [
          [
           0.9999999999999998,
           -0.09844660247479384,
           -0.06865301584014483,
           0.2793509065612884,
           0.21367795655956187,
           0.1213076480933747,
           -0.1162108981585298,
           -0.3985219381210675,
           0.09680082645526772,
           0.21001256735867369,
           -0.16881423801209566,
           0.27632624401913897,
           0.06800137705465177,
           -0.22543871587483724
          ],
          [
           -0.09844660247479384,
           1,
           -0.049352875346989455,
           -0.05676882396964332,
           -0.19791217414110696,
           0.045031789193560344,
           -0.05819626770375472,
           -0.04401990776957478,
           0.14166381099150574,
           0.09609287706773896,
           -0.03071056730317257,
           0.1182614133203601,
           0.21004109563720744,
           -0.2809365755017666
          ],
          [
           -0.06865301584014481,
           -0.049352875346989455,
           1,
           0.04760776064464845,
           -0.0769043910332077,
           0.09444403499533156,
           0.04442059251016385,
           0.2957621245879105,
           -0.39428026849502185,
           -0.14923015809708082,
           0.11971658853470636,
           -0.1810530260534952,
           -0.16173557051002216,
           0.43379826150689393
          ],
          [
           0.2793509065612884,
           -0.05676882396964333,
           0.04760776064464845,
           1,
           0.1231742065323907,
           0.17753054193445994,
           -0.11410278639187024,
           -0.04669772814795432,
           0.06761611953876392,
           0.19321647240953643,
           -0.1214745819264502,
           0.1013889853005514,
           0.06220988763086148,
           -0.1449311284977515
          ],
          [
           0.21367795655956184,
           -0.19791217414110696,
           -0.07690439103320772,
           0.12317420653239068,
           1,
           0.01329360225167158,
           -0.15104007833751232,
           -0.009939838642698215,
           0.0670227825739427,
           0.0539519199869938,
           -0.004037770369683754,
           0.07051092522607605,
           0.09880299250014492,
           -0.08523910513756908
          ],
          [
           0.1213076480933747,
           0.045031789193560344,
           0.09444403499533156,
           0.17753054193445997,
           0.01329360225167158,
           1,
           -0.08418905443102688,
           -0.008567107343486837,
           0.025665147202126135,
           0.0057472234596442785,
           -0.05989417829041811,
           0.13797932702785137,
           -0.032019339313497513,
           -0.028045760272712886
          ],
          [
           -0.1162108981585298,
           -0.05819626770375472,
           0.04442059251016385,
           -0.11410278639187024,
           -0.15104007833751232,
           -0.08418905443102688,
           1,
           0.04412344408543709,
           -0.07073285587236651,
           -0.05877022631983712,
           0.09304482097448254,
           -0.07204243324693001,
           -0.011981404599806256,
           0.1372295028737733
          ],
          [
           -0.3985219381210675,
           -0.04401990776957479,
           0.2957621245879105,
           -0.04669772814795432,
           -0.009939838642698215,
           -0.008567107343486837,
           0.04412344408543709,
           1,
           -0.3788120938514867,
           -0.3441869479667157,
           0.3867844098148197,
           -0.21317692811538977,
           -0.09643913165982126,
           0.4217409338106747
          ],
          [
           0.09680082645526772,
           0.14166381099150574,
           -0.3942802684950219,
           0.06761611953876392,
           0.0670227825739427,
           0.025665147202126135,
           -0.07073285587236651,
           -0.3788120938514866,
           1,
           0.28822280778276554,
           -0.2577483685301669,
           0.11573937807050633,
           0.20675378773953765,
           -0.4367570833533028
          ],
          [
           0.21001256735867363,
           0.09609287706773896,
           -0.14923015809708085,
           0.19321647240953643,
           0.0539519199869938,
           0.0057472234596442785,
           -0.05877022631983712,
           -0.3441869479667157,
           0.2882228077827655,
           1,
           -0.5775368167291415,
           0.2226823218278236,
           0.2102441259826484,
           -0.4306960016873685
          ],
          [
           -0.16881423801209566,
           -0.030710567303172575,
           0.11971658853470636,
           -0.12147458192645018,
           -0.004037770369683754,
           -0.059894178290418106,
           0.09304482097448254,
           0.3867844098148197,
           -0.25774836853016686,
           -0.5775368167291415,
           1,
           -0.08015521021463975,
           -0.1047637946214955,
           0.3458770782417252
          ],
          [
           0.27632624401913897,
           0.11826141332036008,
           -0.1810530260534952,
           0.1013889853005514,
           0.07051092522607605,
           0.13797932702785132,
           -0.07204243324693,
           -0.2131769281153898,
           0.11573937807050633,
           0.22268232182782363,
           -0.08015521021463975,
           1,
           0.1518321254820894,
           -0.3917239923512522
          ],
          [
           0.06800137705465177,
           0.21004109563720744,
           -0.16173557051002216,
           0.06220988763086148,
           0.09880299250014492,
           -0.032019339313497513,
           -0.011981404599806256,
           -0.09643913165982124,
           0.20675378773953765,
           0.21024412598264844,
           -0.10476379462149552,
           0.15183212548208938,
           1,
           -0.34402926803831047
          ],
          [
           -0.22543871587483727,
           -0.2809365755017666,
           0.433798261506894,
           -0.1449311284977515,
           -0.08523910513756908,
           -0.028045760272712883,
           0.1372295028737733,
           0.42174093381067473,
           -0.4367570833533028,
           -0.4306960016873684,
           0.3458770782417252,
           -0.3917239923512522,
           -0.34402926803831047,
           1
          ]
         ]
        }
       ],
       "layout": {
        "coloraxis": {
         "colorscale": [
          [
           0,
           "#0d0887"
          ],
          [
           0.1111111111111111,
           "#46039f"
          ],
          [
           0.2222222222222222,
           "#7201a8"
          ],
          [
           0.3333333333333333,
           "#9c179e"
          ],
          [
           0.4444444444444444,
           "#bd3786"
          ],
          [
           0.5555555555555556,
           "#d8576b"
          ],
          [
           0.6666666666666666,
           "#ed7953"
          ],
          [
           0.7777777777777778,
           "#fb9f3a"
          ],
          [
           0.8888888888888888,
           "#fdca26"
          ],
          [
           1,
           "#f0f921"
          ]
         ]
        },
        "height": 600,
        "margin": {
         "t": 60
        },
        "template": {
         "data": {
          "bar": [
           {
            "error_x": {
             "color": "#2a3f5f"
            },
            "error_y": {
             "color": "#2a3f5f"
            },
            "marker": {
             "line": {
              "color": "#E5ECF6",
              "width": 0.5
             },
             "pattern": {
              "fillmode": "overlay",
              "size": 10,
              "solidity": 0.2
             }
            },
            "type": "bar"
           }
          ],
          "barpolar": [
           {
            "marker": {
             "line": {
              "color": "#E5ECF6",
              "width": 0.5
             },
             "pattern": {
              "fillmode": "overlay",
              "size": 10,
              "solidity": 0.2
             }
            },
            "type": "barpolar"
           }
          ],
          "carpet": [
           {
            "aaxis": {
             "endlinecolor": "#2a3f5f",
             "gridcolor": "white",
             "linecolor": "white",
             "minorgridcolor": "white",
             "startlinecolor": "#2a3f5f"
            },
            "baxis": {
             "endlinecolor": "#2a3f5f",
             "gridcolor": "white",
             "linecolor": "white",
             "minorgridcolor": "white",
             "startlinecolor": "#2a3f5f"
            },
            "type": "carpet"
           }
          ],
          "choropleth": [
           {
            "colorbar": {
             "outlinewidth": 0,
             "ticks": ""
            },
            "type": "choropleth"
           }
          ],
          "contour": [
           {
            "colorbar": {
             "outlinewidth": 0,
             "ticks": ""
            },
            "colorscale": [
             [
              0,
              "#0d0887"
             ],
             [
              0.1111111111111111,
              "#46039f"
             ],
             [
              0.2222222222222222,
              "#7201a8"
             ],
             [
              0.3333333333333333,
              "#9c179e"
             ],
             [
              0.4444444444444444,
              "#bd3786"
             ],
             [
              0.5555555555555556,
              "#d8576b"
             ],
             [
              0.6666666666666666,
              "#ed7953"
             ],
             [
              0.7777777777777778,
              "#fb9f3a"
             ],
             [
              0.8888888888888888,
              "#fdca26"
             ],
             [
              1,
              "#f0f921"
             ]
            ],
            "type": "contour"
           }
          ],
          "contourcarpet": [
           {
            "colorbar": {
             "outlinewidth": 0,
             "ticks": ""
            },
            "type": "contourcarpet"
           }
          ],
          "heatmap": [
           {
            "colorbar": {
             "outlinewidth": 0,
             "ticks": ""
            },
            "colorscale": [
             [
              0,
              "#0d0887"
             ],
             [
              0.1111111111111111,
              "#46039f"
             ],
             [
              0.2222222222222222,
              "#7201a8"
             ],
             [
              0.3333333333333333,
              "#9c179e"
             ],
             [
              0.4444444444444444,
              "#bd3786"
             ],
             [
              0.5555555555555556,
              "#d8576b"
             ],
             [
              0.6666666666666666,
              "#ed7953"
             ],
             [
              0.7777777777777778,
              "#fb9f3a"
             ],
             [
              0.8888888888888888,
              "#fdca26"
             ],
             [
              1,
              "#f0f921"
             ]
            ],
            "type": "heatmap"
           }
          ],
          "heatmapgl": [
           {
            "colorbar": {
             "outlinewidth": 0,
             "ticks": ""
            },
            "colorscale": [
             [
              0,
              "#0d0887"
             ],
             [
              0.1111111111111111,
              "#46039f"
             ],
             [
              0.2222222222222222,
              "#7201a8"
             ],
             [
              0.3333333333333333,
              "#9c179e"
             ],
             [
              0.4444444444444444,
              "#bd3786"
             ],
             [
              0.5555555555555556,
              "#d8576b"
             ],
             [
              0.6666666666666666,
              "#ed7953"
             ],
             [
              0.7777777777777778,
              "#fb9f3a"
             ],
             [
              0.8888888888888888,
              "#fdca26"
             ],
             [
              1,
              "#f0f921"
             ]
            ],
            "type": "heatmapgl"
           }
          ],
          "histogram": [
           {
            "marker": {
             "pattern": {
              "fillmode": "overlay",
              "size": 10,
              "solidity": 0.2
             }
            },
            "type": "histogram"
           }
          ],
          "histogram2d": [
           {
            "colorbar": {
             "outlinewidth": 0,
             "ticks": ""
            },
            "colorscale": [
             [
              0,
              "#0d0887"
             ],
             [
              0.1111111111111111,
              "#46039f"
             ],
             [
              0.2222222222222222,
              "#7201a8"
             ],
             [
              0.3333333333333333,
              "#9c179e"
             ],
             [
              0.4444444444444444,
              "#bd3786"
             ],
             [
              0.5555555555555556,
              "#d8576b"
             ],
             [
              0.6666666666666666,
              "#ed7953"
             ],
             [
              0.7777777777777778,
              "#fb9f3a"
             ],
             [
              0.8888888888888888,
              "#fdca26"
             ],
             [
              1,
              "#f0f921"
             ]
            ],
            "type": "histogram2d"
           }
          ],
          "histogram2dcontour": [
           {
            "colorbar": {
             "outlinewidth": 0,
             "ticks": ""
            },
            "colorscale": [
             [
              0,
              "#0d0887"
             ],
             [
              0.1111111111111111,
              "#46039f"
             ],
             [
              0.2222222222222222,
              "#7201a8"
             ],
             [
              0.3333333333333333,
              "#9c179e"
             ],
             [
              0.4444444444444444,
              "#bd3786"
             ],
             [
              0.5555555555555556,
              "#d8576b"
             ],
             [
              0.6666666666666666,
              "#ed7953"
             ],
             [
              0.7777777777777778,
              "#fb9f3a"
             ],
             [
              0.8888888888888888,
              "#fdca26"
             ],
             [
              1,
              "#f0f921"
             ]
            ],
            "type": "histogram2dcontour"
           }
          ],
          "mesh3d": [
           {
            "colorbar": {
             "outlinewidth": 0,
             "ticks": ""
            },
            "type": "mesh3d"
           }
          ],
          "parcoords": [
           {
            "line": {
             "colorbar": {
              "outlinewidth": 0,
              "ticks": ""
             }
            },
            "type": "parcoords"
           }
          ],
          "pie": [
           {
            "automargin": true,
            "type": "pie"
           }
          ],
          "scatter": [
           {
            "fillpattern": {
             "fillmode": "overlay",
             "size": 10,
             "solidity": 0.2
            },
            "type": "scatter"
           }
          ],
          "scatter3d": [
           {
            "line": {
             "colorbar": {
              "outlinewidth": 0,
              "ticks": ""
             }
            },
            "marker": {
             "colorbar": {
              "outlinewidth": 0,
              "ticks": ""
             }
            },
            "type": "scatter3d"
           }
          ],
          "scattercarpet": [
           {
            "marker": {
             "colorbar": {
              "outlinewidth": 0,
              "ticks": ""
             }
            },
            "type": "scattercarpet"
           }
          ],
          "scattergeo": [
           {
            "marker": {
             "colorbar": {
              "outlinewidth": 0,
              "ticks": ""
             }
            },
            "type": "scattergeo"
           }
          ],
          "scattergl": [
           {
            "marker": {
             "colorbar": {
              "outlinewidth": 0,
              "ticks": ""
             }
            },
            "type": "scattergl"
           }
          ],
          "scattermapbox": [
           {
            "marker": {
             "colorbar": {
              "outlinewidth": 0,
              "ticks": ""
             }
            },
            "type": "scattermapbox"
           }
          ],
          "scatterpolar": [
           {
            "marker": {
             "colorbar": {
              "outlinewidth": 0,
              "ticks": ""
             }
            },
            "type": "scatterpolar"
           }
          ],
          "scatterpolargl": [
           {
            "marker": {
             "colorbar": {
              "outlinewidth": 0,
              "ticks": ""
             }
            },
            "type": "scatterpolargl"
           }
          ],
          "scatterternary": [
           {
            "marker": {
             "colorbar": {
              "outlinewidth": 0,
              "ticks": ""
             }
            },
            "type": "scatterternary"
           }
          ],
          "surface": [
           {
            "colorbar": {
             "outlinewidth": 0,
             "ticks": ""
            },
            "colorscale": [
             [
              0,
              "#0d0887"
             ],
             [
              0.1111111111111111,
              "#46039f"
             ],
             [
              0.2222222222222222,
              "#7201a8"
             ],
             [
              0.3333333333333333,
              "#9c179e"
             ],
             [
              0.4444444444444444,
              "#bd3786"
             ],
             [
              0.5555555555555556,
              "#d8576b"
             ],
             [
              0.6666666666666666,
              "#ed7953"
             ],
             [
              0.7777777777777778,
              "#fb9f3a"
             ],
             [
              0.8888888888888888,
              "#fdca26"
             ],
             [
              1,
              "#f0f921"
             ]
            ],
            "type": "surface"
           }
          ],
          "table": [
           {
            "cells": {
             "fill": {
              "color": "#EBF0F8"
             },
             "line": {
              "color": "white"
             }
            },
            "header": {
             "fill": {
              "color": "#C8D4E3"
             },
             "line": {
              "color": "white"
             }
            },
            "type": "table"
           }
          ]
         },
         "layout": {
          "annotationdefaults": {
           "arrowcolor": "#2a3f5f",
           "arrowhead": 0,
           "arrowwidth": 1
          },
          "autotypenumbers": "strict",
          "coloraxis": {
           "colorbar": {
            "outlinewidth": 0,
            "ticks": ""
           }
          },
          "colorscale": {
           "diverging": [
            [
             0,
             "#8e0152"
            ],
            [
             0.1,
             "#c51b7d"
            ],
            [
             0.2,
             "#de77ae"
            ],
            [
             0.3,
             "#f1b6da"
            ],
            [
             0.4,
             "#fde0ef"
            ],
            [
             0.5,
             "#f7f7f7"
            ],
            [
             0.6,
             "#e6f5d0"
            ],
            [
             0.7,
             "#b8e186"
            ],
            [
             0.8,
             "#7fbc41"
            ],
            [
             0.9,
             "#4d9221"
            ],
            [
             1,
             "#276419"
            ]
           ],
           "sequential": [
            [
             0,
             "#0d0887"
            ],
            [
             0.1111111111111111,
             "#46039f"
            ],
            [
             0.2222222222222222,
             "#7201a8"
            ],
            [
             0.3333333333333333,
             "#9c179e"
            ],
            [
             0.4444444444444444,
             "#bd3786"
            ],
            [
             0.5555555555555556,
             "#d8576b"
            ],
            [
             0.6666666666666666,
             "#ed7953"
            ],
            [
             0.7777777777777778,
             "#fb9f3a"
            ],
            [
             0.8888888888888888,
             "#fdca26"
            ],
            [
             1,
             "#f0f921"
            ]
           ],
           "sequentialminus": [
            [
             0,
             "#0d0887"
            ],
            [
             0.1111111111111111,
             "#46039f"
            ],
            [
             0.2222222222222222,
             "#7201a8"
            ],
            [
             0.3333333333333333,
             "#9c179e"
            ],
            [
             0.4444444444444444,
             "#bd3786"
            ],
            [
             0.5555555555555556,
             "#d8576b"
            ],
            [
             0.6666666666666666,
             "#ed7953"
            ],
            [
             0.7777777777777778,
             "#fb9f3a"
            ],
            [
             0.8888888888888888,
             "#fdca26"
            ],
            [
             1,
             "#f0f921"
            ]
           ]
          },
          "colorway": [
           "#636efa",
           "#EF553B",
           "#00cc96",
           "#ab63fa",
           "#FFA15A",
           "#19d3f3",
           "#FF6692",
           "#B6E880",
           "#FF97FF",
           "#FECB52"
          ],
          "font": {
           "color": "#2a3f5f"
          },
          "geo": {
           "bgcolor": "white",
           "lakecolor": "white",
           "landcolor": "#E5ECF6",
           "showlakes": true,
           "showland": true,
           "subunitcolor": "white"
          },
          "hoverlabel": {
           "align": "left"
          },
          "hovermode": "closest",
          "mapbox": {
           "style": "light"
          },
          "paper_bgcolor": "white",
          "plot_bgcolor": "#E5ECF6",
          "polar": {
           "angularaxis": {
            "gridcolor": "white",
            "linecolor": "white",
            "ticks": ""
           },
           "bgcolor": "#E5ECF6",
           "radialaxis": {
            "gridcolor": "white",
            "linecolor": "white",
            "ticks": ""
           }
          },
          "scene": {
           "xaxis": {
            "backgroundcolor": "#E5ECF6",
            "gridcolor": "white",
            "gridwidth": 2,
            "linecolor": "white",
            "showbackground": true,
            "ticks": "",
            "zerolinecolor": "white"
           },
           "yaxis": {
            "backgroundcolor": "#E5ECF6",
            "gridcolor": "white",
            "gridwidth": 2,
            "linecolor": "white",
            "showbackground": true,
            "ticks": "",
            "zerolinecolor": "white"
           },
           "zaxis": {
            "backgroundcolor": "#E5ECF6",
            "gridcolor": "white",
            "gridwidth": 2,
            "linecolor": "white",
            "showbackground": true,
            "ticks": "",
            "zerolinecolor": "white"
           }
          },
          "shapedefaults": {
           "line": {
            "color": "#2a3f5f"
           }
          },
          "ternary": {
           "aaxis": {
            "gridcolor": "white",
            "linecolor": "white",
            "ticks": ""
           },
           "baxis": {
            "gridcolor": "white",
            "linecolor": "white",
            "ticks": ""
           },
           "bgcolor": "#E5ECF6",
           "caxis": {
            "gridcolor": "white",
            "linecolor": "white",
            "ticks": ""
           }
          },
          "title": {
           "x": 0.05
          },
          "xaxis": {
           "automargin": true,
           "gridcolor": "white",
           "linecolor": "white",
           "ticks": "",
           "title": {
            "standoff": 15
           },
           "zerolinecolor": "white",
           "zerolinewidth": 2
          },
          "yaxis": {
           "automargin": true,
           "gridcolor": "white",
           "linecolor": "white",
           "ticks": "",
           "title": {
            "standoff": 15
           },
           "zerolinecolor": "white",
           "zerolinewidth": 2
          }
         }
        },
        "width": 800,
        "xaxis": {
         "anchor": "y",
         "constrain": "domain",
         "domain": [
          0,
          1
         ],
         "scaleanchor": "y"
        },
        "yaxis": {
         "anchor": "x",
         "autorange": "reversed",
         "constrain": "domain",
         "domain": [
          0,
          1
         ],
         "ticktext": [
          "age",
          "sex",
          "chest_pain",
          "resting_blood_pressure",
          "cholesterol",
          "fasting_blood_sugar",
          "restecg",
          "max_heart_rate",
          "excercise_ind_angina",
          "oldpeak",
          "peak_slope",
          "num_major_vessles",
          "thalassemia",
          "positive_diagnosis"
         ],
         "tickvals": [
          0,
          1,
          2,
          3,
          4,
          5,
          6,
          7,
          8,
          9,
          10,
          11,
          12,
          13
         ]
        }
       }
      }
     },
     "metadata": {},
     "output_type": "display_data"
    }
   ],
   "source": [
    "import plotly.express as px\n",
    "\n",
    "px.imshow(data.corr(), width=800, height=600).update_yaxes(\n",
    "    ticktext=data.columns, tickvals=list(range(len(data.columns)))\n",
    ")"
   ]
  },
  {
   "cell_type": "code",
   "execution_count": 2,
   "metadata": {},
   "outputs": [
    {
     "ename": "NameError",
     "evalue": "name 'data' is not defined",
     "output_type": "error",
     "traceback": [
      "\u001b[1;31m---------------------------------------------------------------------------\u001b[0m",
      "\u001b[1;31mNameError\u001b[0m                                 Traceback (most recent call last)",
      "Cell \u001b[1;32mIn[2], line 5\u001b[0m\n\u001b[0;32m      1\u001b[0m \u001b[38;5;28;01mfrom\u001b[39;00m \u001b[38;5;21;01mutils\u001b[39;00m\u001b[38;5;21;01m.\u001b[39;00m\u001b[38;5;21;01mplotting\u001b[39;00m \u001b[38;5;28;01mimport\u001b[39;00m plot_many\n\u001b[0;32m      4\u001b[0m plot_many(\n\u001b[1;32m----> 5\u001b[0m     data\u001b[38;5;241m=\u001b[39m\u001b[43mdata\u001b[49m,\n\u001b[0;32m      6\u001b[0m     target\u001b[38;5;241m=\u001b[39m\u001b[38;5;124m\"\u001b[39m\u001b[38;5;124mpositive_diagnosis\u001b[39m\u001b[38;5;124m\"\u001b[39m,\n\u001b[0;32m      7\u001b[0m     features\u001b[38;5;241m=\u001b[39mdata\u001b[38;5;241m.\u001b[39mcolumns,\n\u001b[0;32m      8\u001b[0m     width\u001b[38;5;241m=\u001b[39m\u001b[38;5;241m1600\u001b[39m,\n\u001b[0;32m      9\u001b[0m     height\u001b[38;5;241m=\u001b[39m\u001b[38;5;241m800\u001b[39m,\n\u001b[0;32m     10\u001b[0m     n_col\u001b[38;5;241m=\u001b[39m\u001b[38;5;241m4\u001b[39m,\n\u001b[0;32m     11\u001b[0m     n_row\u001b[38;5;241m=\u001b[39m\u001b[38;5;241m4\u001b[39m,\n\u001b[0;32m     12\u001b[0m )\n",
      "\u001b[1;31mNameError\u001b[0m: name 'data' is not defined"
     ]
    }
   ],
   "source": [
    "from utils.plotting import plot_many\n",
    "\n",
    "\n",
    "plot_many(\n",
    "    data=data,\n",
    "    target=\"positive_diagnosis\",\n",
    "    features=data.columns,\n",
    "    width=1600,\n",
    "    height=800,\n",
    "    n_col=4,\n",
    "    n_row=4,\n",
    ")"
   ]
  },
  {
   "cell_type": "code",
   "execution_count": 8,
   "metadata": {},
   "outputs": [
    {
     "data": {
      "text/html": [
       "<div><style>\n",
       ".dataframe > thead > tr,\n",
       ".dataframe > tbody > tr {\n",
       "  text-align: right;\n",
       "  white-space: pre-wrap;\n",
       "}\n",
       "</style>\n",
       "<small>shape: (2, 14)</small><table border=\"1\" class=\"dataframe\"><thead><tr><th>positive_diagnosis</th><th>age</th><th>sex</th><th>chest_pain</th><th>resting_blood_pressure</th><th>cholesterol</th><th>fasting_blood_sugar</th><th>restecg</th><th>max_heart_rate</th><th>excercise_ind_angina</th><th>oldpeak</th><th>peak_slope</th><th>num_major_vessles</th><th>thalassemia</th></tr><tr><td>i64</td><td>f64</td><td>f64</td><td>f64</td><td>f64</td><td>f64</td><td>f64</td><td>f64</td><td>f64</td><td>f64</td><td>f64</td><td>f64</td><td>f64</td><td>f64</td></tr></thead><tbody><tr><td>0</td><td>56.601449</td><td>0.826087</td><td>0.478261</td><td>134.398551</td><td>251.086957</td><td>0.15942</td><td>0.449275</td><td>139.101449</td><td>0.550725</td><td>1.585507</td><td>1.166667</td><td>1.166667</td><td>2.543478</td></tr><tr><td>1</td><td>52.49697</td><td>0.563636</td><td>1.375758</td><td>129.30303</td><td>242.230303</td><td>0.139394</td><td>0.593939</td><td>158.466667</td><td>0.139394</td><td>0.58303</td><td>1.593939</td><td>0.363636</td><td>2.121212</td></tr></tbody></table></div>"
      ],
      "text/plain": [
       "shape: (2, 14)\n",
       "┌────────────┬───────────┬──────────┬───────────┬───┬──────────┬───────────┬───────────┬───────────┐\n",
       "│ positive_d ┆ age       ┆ sex      ┆ chest_pai ┆ … ┆ oldpeak  ┆ peak_slop ┆ num_major ┆ thalassem │\n",
       "│ iagnosis   ┆ ---       ┆ ---      ┆ n         ┆   ┆ ---      ┆ e         ┆ _vessles  ┆ ia        │\n",
       "│ ---        ┆ f64       ┆ f64      ┆ ---       ┆   ┆ f64      ┆ ---       ┆ ---       ┆ ---       │\n",
       "│ i64        ┆           ┆          ┆ f64       ┆   ┆          ┆ f64       ┆ f64       ┆ f64       │\n",
       "╞════════════╪═══════════╪══════════╪═══════════╪═══╪══════════╪═══════════╪═══════════╪═══════════╡\n",
       "│ 0          ┆ 56.601449 ┆ 0.826087 ┆ 0.478261  ┆ … ┆ 1.585507 ┆ 1.166667  ┆ 1.166667  ┆ 2.543478  │\n",
       "│ 1          ┆ 52.49697  ┆ 0.563636 ┆ 1.375758  ┆ … ┆ 0.58303  ┆ 1.593939  ┆ 0.363636  ┆ 2.121212  │\n",
       "└────────────┴───────────┴──────────┴───────────┴───┴──────────┴───────────┴───────────┴───────────┘"
      ]
     },
     "execution_count": 8,
     "metadata": {},
     "output_type": "execute_result"
    }
   ],
   "source": [
    "data.group_by(\"positive_diagnosis\").mean()"
   ]
  },
  {
   "cell_type": "code",
   "execution_count": 9,
   "metadata": {},
   "outputs": [],
   "source": [
    "from sklearn.linear_model import LogisticRegression\n",
    "from sklearn.preprocessing import StandardScaler\n",
    "from sklearn.model_selection import StratifiedShuffleSplit"
   ]
  },
  {
   "cell_type": "code",
   "execution_count": 16,
   "metadata": {},
   "outputs": [],
   "source": [
    "scaler = StandardScaler()\n",
    "splitter = StratifiedShuffleSplit(n_splits=1, test_size=0.2, random_state=0)\n",
    "\n",
    "train_index, test_index = next(splitter.split(data, data[\"positive_diagnosis\"]))\n",
    "X_train = data[train_index].drop(\"positive_diagnosis\")\n",
    "y_train = data[train_index, \"positive_diagnosis\"].to_numpy()\n",
    "\n",
    "X_test = data[test_index].drop(\"positive_diagnosis\")\n",
    "y_test = data[test_index, \"positive_diagnosis\"].to_numpy()\n",
    "\n",
    "X_train_prepped = scaler.fit_transform(X_train)\n",
    "X_test_prepped = scaler.transform(X_test)"
   ]
  },
  {
   "cell_type": "code",
   "execution_count": 17,
   "metadata": {},
   "outputs": [],
   "source": [
    "model = LogisticRegression(random_state=0)\n",
    "\n",
    "model.fit(X_train_prepped, y_train)\n",
    "predictions = model.predict(X_test_prepped)"
   ]
  },
  {
   "cell_type": "code",
   "execution_count": 12,
   "metadata": {},
   "outputs": [],
   "source": [
    "from sklearn.metrics import classification_report"
   ]
  },
  {
   "cell_type": "code",
   "execution_count": 13,
   "metadata": {},
   "outputs": [
    {
     "name": "stdout",
     "output_type": "stream",
     "text": [
      "              precision    recall  f1-score   support\n",
      "\n",
      "           0       0.88      0.82      0.85        28\n",
      "           1       0.86      0.91      0.88        33\n",
      "\n",
      "    accuracy                           0.87        61\n",
      "   macro avg       0.87      0.87      0.87        61\n",
      "weighted avg       0.87      0.87      0.87        61\n",
      "\n"
     ]
    }
   ],
   "source": [
    "print(classification_report(y_test, predictions))"
   ]
  },
  {
   "cell_type": "code",
   "execution_count": null,
   "metadata": {},
   "outputs": [],
   "source": []
  }
 ],
 "metadata": {
  "kernelspec": {
   "display_name": ".venv",
   "language": "python",
   "name": "python3"
  },
  "language_info": {
   "codemirror_mode": {
    "name": "ipython",
    "version": 3
   },
   "file_extension": ".py",
   "mimetype": "text/x-python",
   "name": "python",
   "nbconvert_exporter": "python",
   "pygments_lexer": "ipython3",
   "version": "3.13.0"
  }
 },
 "nbformat": 4,
 "nbformat_minor": 2
}
